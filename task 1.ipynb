{
 "cells": [
  {
   "cell_type": "code",
   "execution_count": null,
   "metadata": {},
   "outputs": [],
   "source": [
    "def caesar_encrypt(text, shift):\n",
    "    encrypted_text = \"\"\n",
    "    for char in text:\n",
    "        if char.isalpha():  # Check if the character is a letter\n",
    "            shift_base = ord('A') if char.isupper() else ord('a')\n",
    "            \n",
    "            encrypted_char = chr((ord(char) - shift_base + shift) % 26 + shift_base)\n",
    "            encrypted_text += encrypted_char\n",
    "        else:\n",
    "            encrypted_text += char  # Non-alphabetic characters are not changed\n",
    "    return encrypted_text\n",
    "\n",
    "\n",
    "def caesar_decrypt(text, shift):\n",
    "    return caesar_encrypt(text, -shift)  # Decrypting is just encrypting with the negative shift\n",
    "\n",
    "def main():\n",
    "    print(\"Caesar Cipher Encryption and Decryption\")\n",
    "    while True:\n",
    "        choice = input(\"Would you like to (E)ncrypt, (D)ecrypt, or (Q)uit? \").upper()\n",
    "        if choice == 'Q':\n",
    "            print(\"Goodbye!\")\n",
    "            break\n",
    "        elif choice in ['E', 'D']:\n",
    "            message = input(\"Enter your message: \")\n",
    "            shift = int(input(\"Enter the shift value (1-25): \"))\n",
    "            if choice == 'E':\n",
    "                encrypted_message = caesar_encrypt(message, shift)\n",
    "                print(f\"Encrypted message: {encrypted_message}\")\n",
    "            elif choice == 'D':\n",
    "                decrypted_message = caesar_decrypt(message, shift)\n",
    "                print(f\"Decrypted message: {decrypted_message}\")\n",
    "        else:\n",
    "            print(\"Invalid choice. Please choose E, D, or Q.\")\n",
    "\n",
    "if __name__ == \"__main__\":\n",
    "    main()\n"
   ]
  }
 ],
 "metadata": {
  "kernelspec": {
   "display_name": "Python 3",
   "language": "python",
   "name": "python3"
  },
  "language_info": {
   "codemirror_mode": {
    "name": "ipython",
    "version": 3
   },
   "file_extension": ".py",
   "mimetype": "text/x-python",
   "name": "python",
   "nbconvert_exporter": "python",
   "pygments_lexer": "ipython3",
   "version": "3.11.9"
  }
 },
 "nbformat": 4,
 "nbformat_minor": 2
}
